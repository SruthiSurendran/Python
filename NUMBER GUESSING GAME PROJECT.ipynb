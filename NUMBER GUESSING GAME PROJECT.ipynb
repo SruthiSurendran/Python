{
 "cells": [
  {
   "cell_type": "code",
   "execution_count": null,
   "metadata": {},
   "outputs": [
    {
     "name": "stdout",
     "output_type": "stream",
     "text": [
      "Welcome to Number Guess\n",
      "Please input a number between 0 and 100:78\n",
      "This is higher than actual number. Please try again.\n",
      "Please input a number between 0 and 100:98\n",
      "This is higher than actual number. Please try again.\n",
      "Please input a number between 0 and 100:65\n",
      "This is higher than actual number. Please try again.\n"
     ]
    }
   ],
   "source": [
    "import random\n",
    "number=random.randrange(0,100)\n",
    "guessCheck=\"wrong\"\n",
    "print(\"Welcome to Number Guess\")\n",
    "\n",
    "while guessCheck==\"wrong\":\n",
    "    response=int(input(\"Please input a number between 0 and 100:\"))\n",
    "\n",
    "    val=int(response)\n",
    "\n",
    "    val=int (response)\n",
    "    \n",
    "    if val<number:\n",
    "        print(\"This is lower than actual number. Please try again.\")\n",
    "    elif val>number:\n",
    "        print(\"This is higher than actual number. Please try again.\")\n",
    "    else:\n",
    "        print(\"This is the correct number\")\n",
    "        guessCheck=\"correct\"\n",
    "\n",
    "print(\"Thank you for playing Number Guess. See you again\")"
   ]
  },
  {
   "cell_type": "code",
   "execution_count": null,
   "metadata": {},
   "outputs": [],
   "source": []
  }
 ],
 "metadata": {
  "kernelspec": {
   "display_name": "Python 3",
   "language": "python",
   "name": "python3"
  },
  "language_info": {
   "codemirror_mode": {
    "name": "ipython",
    "version": 3
   },
   "file_extension": ".py",
   "mimetype": "text/x-python",
   "name": "python",
   "nbconvert_exporter": "python",
   "pygments_lexer": "ipython3",
   "version": "3.8.5"
  }
 },
 "nbformat": 4,
 "nbformat_minor": 4
}
